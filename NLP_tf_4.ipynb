{
  "nbformat": 4,
  "nbformat_minor": 0,
  "metadata": {
    "colab": {
      "name": "NLP_tf_4.ipynb",
      "provenance": [],
      "authorship_tag": "ABX9TyNsoRmEcGxVjO+8KDs8NXP4",
      "include_colab_link": true
    },
    "kernelspec": {
      "name": "python3",
      "display_name": "Python 3"
    },
    "language_info": {
      "name": "python"
    }
  },
  "cells": [
    {
      "cell_type": "markdown",
      "metadata": {
        "id": "view-in-github",
        "colab_type": "text"
      },
      "source": [
        "<a href=\"https://colab.research.google.com/github/dtg-ca/DataScience-the-journey-begins/blob/master/NLP_tf_4.ipynb\" target=\"_parent\"><img src=\"https://colab.research.google.com/assets/colab-badge.svg\" alt=\"Open In Colab\"/></a>"
      ]
    },
    {
      "cell_type": "code",
      "metadata": {
        "colab": {
          "base_uri": "https://localhost:8080/"
        },
        "id": "z1K7Gctwj4Sw",
        "outputId": "22806f66-334c-4269-a77b-31cea5a5852f"
      },
      "source": [
        "import tensorflow as tf\n",
        "print(tf.__version__)"
      ],
      "execution_count": 1,
      "outputs": [
        {
          "output_type": "stream",
          "name": "stdout",
          "text": [
            "2.6.0\n"
          ]
        }
      ]
    },
    {
      "cell_type": "code",
      "metadata": {
        "id": "cShq18xDkHBF"
      },
      "source": [
        "import pandas as pd\n",
        "import numpy as np\n",
        "import matplotlib.pyplot as plt"
      ],
      "execution_count": 2,
      "outputs": []
    },
    {
      "cell_type": "code",
      "metadata": {
        "colab": {
          "base_uri": "https://localhost:8080/"
        },
        "id": "CJfRcrqZkM05",
        "outputId": "436f7d24-ec34-4bbe-e083-74461b7d95c1"
      },
      "source": [
        "series = np.sin(0.1* np.arange(200)) + np.random.randn(200)*0.1\n",
        "len(series)"
      ],
      "execution_count": 3,
      "outputs": [
        {
          "output_type": "execute_result",
          "data": {
            "text/plain": [
              "200"
            ]
          },
          "metadata": {},
          "execution_count": 3
        }
      ]
    },
    {
      "cell_type": "code",
      "metadata": {
        "colab": {
          "base_uri": "https://localhost:8080/",
          "height": 265
        },
        "id": "GIas6iFTk-s1",
        "outputId": "ae262f5c-29bf-4e2c-8f48-fda701277b98"
      },
      "source": [
        "plt.plot(series)\n",
        "plt.show()"
      ],
      "execution_count": 4,
      "outputs": [
        {
          "output_type": "display_data",
          "data": {
            "image/png": "[encoded data removed]",
            "text/plain": [
              "<Figure size 432x288 with 1 Axes>"
            ]
          },
          "metadata": {
            "needs_background": "light"
          }
        }
      ]
    },
    {
      "cell_type": "code",
      "metadata": {
        "id": "UGQaIIMVlFZ5"
      },
      "source": [
        "from tensorflow.keras.layers import Input, Dense\n",
        "from tensorflow.keras.models import Model\n",
        "from tensorflow.keras.optimizers import SGD, Adam"
      ],
      "execution_count": 5,
      "outputs": []
    },
    {
      "cell_type": "code",
      "metadata": {
        "id": "NhB_j3aQmfoS",
        "colab": {
          "base_uri": "https://localhost:8080/"
        },
        "outputId": "c2cd4c6b-5afd-412e-be8b-599792c78dd3"
      },
      "source": [
        "type(series)"
      ],
      "execution_count": 6,
      "outputs": [
        {
          "output_type": "execute_result",
          "data": {
            "text/plain": [
              "numpy.ndarray"
            ]
          },
          "metadata": {},
          "execution_count": 6
        }
      ]
    },
    {
      "cell_type": "code",
      "metadata": {
        "colab": {
          "base_uri": "https://localhost:8080/"
        },
        "id": "iW0tYVZwvLX3",
        "outputId": "a13de5fc-6f08-4d8b-cbcf-5f2fd2274235"
      },
      "source": [
        "series[0:10]"
      ],
      "execution_count": 7,
      "outputs": [
        {
          "output_type": "execute_result",
          "data": {
            "text/plain": [
              "array([0.13225549, 0.13076973, 0.08421009, 0.2636651 , 0.52416426,\n",
              "       0.39164751, 0.51350733, 0.60405485, 0.71902304, 0.90907395])"
            ]
          },
          "metadata": {},
          "execution_count": 7
        }
      ]
    },
    {
      "cell_type": "code",
      "metadata": {
        "colab": {
          "base_uri": "https://localhost:8080/"
        },
        "id": "hbPn0UP2vTer",
        "outputId": "32f9de9a-da0b-488a-c711-c0d68abdc209"
      },
      "source": [
        "T = 10\n",
        "X = []\n",
        "Y = []\n",
        "type(X), type(Y)"
      ],
      "execution_count": 8,
      "outputs": [
        {
          "output_type": "execute_result",
          "data": {
            "text/plain": [
              "(list, list)"
            ]
          },
          "metadata": {},
          "execution_count": 8
        }
      ]
    },
    {
      "cell_type": "code",
      "metadata": {
        "id": "qFT3qd4FyepF"
      },
      "source": [
        "for t in range(len(series)-T):\n",
        "  x = series [t : t+T]\n",
        "  X.append(x)\n",
        "  y = series [t + T]\n",
        "  Y.append(y)"
      ],
      "execution_count": 9,
      "outputs": []
    },
    {
      "cell_type": "code",
      "metadata": {
        "colab": {
          "base_uri": "https://localhost:8080/"
        },
        "id": "9WmA6DTg36Fp",
        "outputId": "7861c7d8-1e8a-4c27-c43a-2e330e1d016b"
      },
      "source": [
        "X = np.array(X).reshape(-1, T)\n",
        "Y = np.array(Y)\n",
        "N = len(X)\n",
        "X.shape, Y.shape"
      ],
      "execution_count": 10,
      "outputs": [
        {
          "output_type": "execute_result",
          "data": {
            "text/plain": [
              "((190, 10), (190,))"
            ]
          },
          "metadata": {},
          "execution_count": 10
        }
      ]
    },
    {
      "cell_type": "code",
      "metadata": {
        "colab": {
          "base_uri": "https://localhost:8080/"
        },
        "id": "tVpIOXxg4m3v",
        "outputId": "02cca04f-35ef-49dd-a425-4fddbe920416"
      },
      "source": [
        "i = Input(shape= (T,))\n",
        "x = Dense(1)(i)\n",
        "model = Model(i, x)\n",
        "model.compile( \n",
        "             loss = 'mse',\n",
        "             optimizer = Adam(lr =0.1)\n",
        "             )\n",
        "r = model. fit(\n",
        "    X[:- N//2], Y[:-N//2],\n",
        "    validation_data =( X[-N//2:],Y[-N//2:]),\n",
        "    epochs = 80\n",
        "    )"
      ],
      "execution_count": 11,
      "outputs": [
        {
          "output_type": "stream",
          "name": "stderr",
          "text": [
            "/usr/local/lib/python3.7/dist-packages/keras/optimizer_v2/optimizer_v2.py:356: UserWarning: The `lr` argument is deprecated, use `learning_rate` instead.\n",
            "  \"The `lr` argument is deprecated, use `learning_rate` instead.\")\n"
          ]
        },
        {
          "output_type": "stream",
          "name": "stdout",
          "text": [
            "Epoch 1/80\n",
            "3/3 [==============================] - 0s 68ms/step - loss: 0.2586 - val_loss: 0.2291\n",
            "Epoch 2/80\n",
            "3/3 [==============================] - 0s 16ms/step - loss: 0.1755 - val_loss: 0.0761\n",
            "Epoch 3/80\n",
            "3/3 [==============================] - 0s 11ms/step - loss: 0.1436 - val_loss: 0.0899\n",
            "Epoch 4/80\n",
            "3/3 [==============================] - 0s 12ms/step - loss: 0.0720 - val_loss: 0.0747\n",
            "Epoch 5/80\n",
            "3/3 [==============================] - 0s 15ms/step - loss: 0.1095 - val_loss: 0.0624\n",
            "Epoch 6/80\n",
            "3/3 [==============================] - 0s 11ms/step - loss: 0.0398 - val_loss: 0.0414\n",
            "Epoch 7/80\n",
            "3/3 [==============================] - 0s 12ms/step - loss: 0.0653 - val_loss: 0.0358\n",
            "Epoch 8/80\n",
            "3/3 [==============================] - 0s 15ms/step - loss: 0.0293 - val_loss: 0.0270\n",
            "Epoch 9/80\n",
            "3/3 [==============================] - 0s 12ms/step - loss: 0.0449 - val_loss: 0.0263\n",
            "Epoch 10/80\n",
            "3/3 [==============================] - 0s 13ms/step - loss: 0.0286 - val_loss: 0.0275\n",
            "Epoch 11/80\n",
            "3/3 [==============================] - 0s 11ms/step - loss: 0.0329 - val_loss: 0.0231\n",
            "Epoch 12/80\n",
            "3/3 [==============================] - 0s 11ms/step - loss: 0.0243 - val_loss: 0.0239\n",
            "Epoch 13/80\n",
            "3/3 [==============================] - 0s 21ms/step - loss: 0.0292 - val_loss: 0.0221\n",
            "Epoch 14/80\n",
            "3/3 [==============================] - 0s 11ms/step - loss: 0.0238 - val_loss: 0.0212\n",
            "Epoch 15/80\n",
            "3/3 [==============================] - 0s 11ms/step - loss: 0.0253 - val_loss: 0.0186\n",
            "Epoch 16/80\n",
            "3/3 [==============================] - 0s 13ms/step - loss: 0.0222 - val_loss: 0.0182\n",
            "Epoch 17/80\n",
            "3/3 [==============================] - 0s 11ms/step - loss: 0.0224 - val_loss: 0.0177\n",
            "Epoch 18/80\n",
            "3/3 [==============================] - 0s 11ms/step - loss: 0.0216 - val_loss: 0.0177\n",
            "Epoch 19/80\n",
            "3/3 [==============================] - 0s 11ms/step - loss: 0.0211 - val_loss: 0.0182\n",
            "Epoch 20/80\n",
            "3/3 [==============================] - 0s 14ms/step - loss: 0.0214 - val_loss: 0.0175\n",
            "Epoch 21/80\n",
            "3/3 [==============================] - 0s 12ms/step - loss: 0.0203 - val_loss: 0.0173\n",
            "Epoch 22/80\n",
            "3/3 [==============================] - 0s 13ms/step - loss: 0.0204 - val_loss: 0.0166\n",
            "Epoch 23/80\n",
            "3/3 [==============================] - 0s 19ms/step - loss: 0.0199 - val_loss: 0.0164\n",
            "Epoch 24/80\n",
            "3/3 [==============================] - 0s 14ms/step - loss: 0.0203 - val_loss: 0.0163\n",
            "Epoch 25/80\n",
            "3/3 [==============================] - 0s 12ms/step - loss: 0.0192 - val_loss: 0.0165\n",
            "Epoch 26/80\n",
            "3/3 [==============================] - 0s 13ms/step - loss: 0.0187 - val_loss: 0.0160\n",
            "Epoch 27/80\n",
            "3/3 [==============================] - 0s 12ms/step - loss: 0.0184 - val_loss: 0.0158\n",
            "Epoch 28/80\n",
            "3/3 [==============================] - 0s 11ms/step - loss: 0.0186 - val_loss: 0.0157\n",
            "Epoch 29/80\n",
            "3/3 [==============================] - 0s 12ms/step - loss: 0.0180 - val_loss: 0.0154\n",
            "Epoch 30/80\n",
            "3/3 [==============================] - 0s 12ms/step - loss: 0.0176 - val_loss: 0.0152\n",
            "Epoch 31/80\n",
            "3/3 [==============================] - 0s 12ms/step - loss: 0.0172 - val_loss: 0.0150\n",
            "Epoch 32/80\n",
            "3/3 [==============================] - 0s 12ms/step - loss: 0.0171 - val_loss: 0.0151\n",
            "Epoch 33/80\n",
            "3/3 [==============================] - 0s 14ms/step - loss: 0.0171 - val_loss: 0.0151\n",
            "Epoch 34/80\n",
            "3/3 [==============================] - 0s 11ms/step - loss: 0.0165 - val_loss: 0.0149\n",
            "Epoch 35/80\n",
            "3/3 [==============================] - 0s 11ms/step - loss: 0.0163 - val_loss: 0.0145\n",
            "Epoch 36/80\n",
            "3/3 [==============================] - 0s 17ms/step - loss: 0.0163 - val_loss: 0.0147\n",
            "Epoch 37/80\n",
            "3/3 [==============================] - 0s 14ms/step - loss: 0.0155 - val_loss: 0.0144\n",
            "Epoch 38/80\n",
            "3/3 [==============================] - 0s 16ms/step - loss: 0.0161 - val_loss: 0.0143\n",
            "Epoch 39/80\n",
            "3/3 [==============================] - 0s 12ms/step - loss: 0.0151 - val_loss: 0.0141\n",
            "Epoch 40/80\n",
            "3/3 [==============================] - 0s 12ms/step - loss: 0.0149 - val_loss: 0.0139\n",
            "Epoch 41/80\n",
            "3/3 [==============================] - 0s 13ms/step - loss: 0.0147 - val_loss: 0.0138\n",
            "Epoch 42/80\n",
            "3/3 [==============================] - 0s 16ms/step - loss: 0.0146 - val_loss: 0.0137\n",
            "Epoch 43/80\n",
            "3/3 [==============================] - 0s 15ms/step - loss: 0.0143 - val_loss: 0.0137\n",
            "Epoch 44/80\n",
            "3/3 [==============================] - 0s 13ms/step - loss: 0.0143 - val_loss: 0.0136\n",
            "Epoch 45/80\n",
            "3/3 [==============================] - 0s 15ms/step - loss: 0.0141 - val_loss: 0.0137\n",
            "Epoch 46/80\n",
            "3/3 [==============================] - 0s 15ms/step - loss: 0.0143 - val_loss: 0.0134\n",
            "Epoch 47/80\n",
            "3/3 [==============================] - 0s 14ms/step - loss: 0.0136 - val_loss: 0.0134\n",
            "Epoch 48/80\n",
            "3/3 [==============================] - 0s 15ms/step - loss: 0.0135 - val_loss: 0.0134\n",
            "Epoch 49/80\n",
            "3/3 [==============================] - 0s 13ms/step - loss: 0.0132 - val_loss: 0.0133\n",
            "Epoch 50/80\n",
            "3/3 [==============================] - 0s 15ms/step - loss: 0.0139 - val_loss: 0.0134\n",
            "Epoch 51/80\n",
            "3/3 [==============================] - 0s 13ms/step - loss: 0.0136 - val_loss: 0.0131\n",
            "Epoch 52/80\n",
            "3/3 [==============================] - 0s 17ms/step - loss: 0.0131 - val_loss: 0.0133\n",
            "Epoch 53/80\n",
            "3/3 [==============================] - 0s 14ms/step - loss: 0.0135 - val_loss: 0.0134\n",
            "Epoch 54/80\n",
            "3/3 [==============================] - 0s 12ms/step - loss: 0.0125 - val_loss: 0.0135\n",
            "Epoch 55/80\n",
            "3/3 [==============================] - 0s 12ms/step - loss: 0.0133 - val_loss: 0.0133\n",
            "Epoch 56/80\n",
            "3/3 [==============================] - 0s 11ms/step - loss: 0.0131 - val_loss: 0.0131\n",
            "Epoch 57/80\n",
            "3/3 [==============================] - 0s 12ms/step - loss: 0.0128 - val_loss: 0.0132\n",
            "Epoch 58/80\n",
            "3/3 [==============================] - 0s 15ms/step - loss: 0.0135 - val_loss: 0.0137\n",
            "Epoch 59/80\n",
            "3/3 [==============================] - 0s 13ms/step - loss: 0.0126 - val_loss: 0.0147\n",
            "Epoch 60/80\n",
            "3/3 [==============================] - 0s 12ms/step - loss: 0.0137 - val_loss: 0.0149\n",
            "Epoch 61/80\n",
            "3/3 [==============================] - 0s 14ms/step - loss: 0.0133 - val_loss: 0.0130\n",
            "Epoch 62/80\n",
            "3/3 [==============================] - 0s 14ms/step - loss: 0.0126 - val_loss: 0.0137\n",
            "Epoch 63/80\n",
            "3/3 [==============================] - 0s 13ms/step - loss: 0.0125 - val_loss: 0.0138\n",
            "Epoch 64/80\n",
            "3/3 [==============================] - 0s 14ms/step - loss: 0.0129 - val_loss: 0.0133\n",
            "Epoch 65/80\n",
            "3/3 [==============================] - 0s 13ms/step - loss: 0.0119 - val_loss: 0.0143\n",
            "Epoch 66/80\n",
            "3/3 [==============================] - 0s 13ms/step - loss: 0.0126 - val_loss: 0.0131\n",
            "Epoch 67/80\n",
            "3/3 [==============================] - 0s 15ms/step - loss: 0.0143 - val_loss: 0.0133\n",
            "Epoch 68/80\n",
            "3/3 [==============================] - 0s 11ms/step - loss: 0.0139 - val_loss: 0.0131\n",
            "Epoch 69/80\n",
            "3/3 [==============================] - 0s 12ms/step - loss: 0.0116 - val_loss: 0.0136\n",
            "Epoch 70/80\n",
            "3/3 [==============================] - 0s 11ms/step - loss: 0.0121 - val_loss: 0.0135\n",
            "Epoch 71/80\n",
            "3/3 [==============================] - 0s 11ms/step - loss: 0.0130 - val_loss: 0.0130\n",
            "Epoch 72/80\n",
            "3/3 [==============================] - 0s 12ms/step - loss: 0.0126 - val_loss: 0.0132\n",
            "Epoch 73/80\n",
            "3/3 [==============================] - 0s 17ms/step - loss: 0.0127 - val_loss: 0.0137\n",
            "Epoch 74/80\n",
            "3/3 [==============================] - 0s 14ms/step - loss: 0.0116 - val_loss: 0.0138\n",
            "Epoch 75/80\n",
            "3/3 [==============================] - 0s 12ms/step - loss: 0.0118 - val_loss: 0.0145\n",
            "Epoch 76/80\n",
            "3/3 [==============================] - 0s 14ms/step - loss: 0.0122 - val_loss: 0.0143\n",
            "Epoch 77/80\n",
            "3/3 [==============================] - 0s 15ms/step - loss: 0.0119 - val_loss: 0.0133\n",
            "Epoch 78/80\n",
            "3/3 [==============================] - 0s 13ms/step - loss: 0.0115 - val_loss: 0.0135\n",
            "Epoch 79/80\n",
            "3/3 [==============================] - 0s 12ms/step - loss: 0.0115 - val_loss: 0.0133\n",
            "Epoch 80/80\n",
            "3/3 [==============================] - 0s 11ms/step - loss: 0.0114 - val_loss: 0.0132\n"
          ]
        }
      ]
    },
    {
      "cell_type": "code",
      "metadata": {
        "colab": {
          "base_uri": "https://localhost:8080/",
          "height": 282
        },
        "id": "Us061LZl7vJ2",
        "outputId": "3a2afd31-f73e-46fa-bee8-c2eb218e7d99"
      },
      "source": [
        "plt.plot(r.history['loss'], label = 'loss')\n",
        "plt.plot(r.history['val_loss'], label = 'val_loss')"
      ],
      "execution_count": 12,
      "outputs": [
        {
          "output_type": "execute_result",
          "data": {
            "text/plain": [
              "[<matplotlib.lines.Line2D at 0x7f901441f090>]"
            ]
          },
          "metadata": {},
          "execution_count": 12
        },
        {
          "output_type": "display_data",
          "data": {
            "image/png": "[encoded data removed]",
            "text/plain": [
              "<Figure size 432x288 with 1 Axes>"
            ]
          },
          "metadata": {
            "needs_background": "light"
          }
        }
      ]
    },
    {
      "cell_type": "code",
      "metadata": {
        "colab": {
          "base_uri": "https://localhost:8080/"
        },
        "id": "8FDxQLRD8W-I",
        "outputId": "589b007b-3699-4114-d04a-9b479caca37e"
      },
      "source": [
        "X[0]"
      ],
      "execution_count": 13,
      "outputs": [
        {
          "output_type": "execute_result",
          "data": {
            "text/plain": [
              "array([0.13225549, 0.13076973, 0.08421009, 0.2636651 , 0.52416426,\n",
              "       0.39164751, 0.51350733, 0.60405485, 0.71902304, 0.90907395])"
            ]
          },
          "metadata": {},
          "execution_count": 13
        }
      ]
    },
    {
      "cell_type": "code",
      "metadata": {
        "colab": {
          "base_uri": "https://localhost:8080/"
        },
        "id": "Ht8hAmlw-6Jk",
        "outputId": "c7a263a7-fa17-4772-c3d3-6a198c182a73"
      },
      "source": [
        "X[0].reshape(1,-1)"
      ],
      "execution_count": 14,
      "outputs": [
        {
          "output_type": "execute_result",
          "data": {
            "text/plain": [
              "array([[0.13225549, 0.13076973, 0.08421009, 0.2636651 , 0.52416426,\n",
              "        0.39164751, 0.51350733, 0.60405485, 0.71902304, 0.90907395]])"
            ]
          },
          "metadata": {},
          "execution_count": 14
        }
      ]
    },
    {
      "cell_type": "code",
      "metadata": {
        "colab": {
          "base_uri": "https://localhost:8080/"
        },
        "id": "G1i3rth6EEkb",
        "outputId": "2b869910-4df1-4fc7-c1b9-790e53d7a857"
      },
      "source": [
        "np.roll(X[0], -2)"
      ],
      "execution_count": 15,
      "outputs": [
        {
          "output_type": "execute_result",
          "data": {
            "text/plain": [
              "array([0.08421009, 0.2636651 , 0.52416426, 0.39164751, 0.51350733,\n",
              "       0.60405485, 0.71902304, 0.90907395, 0.13225549, 0.13076973])"
            ]
          },
          "metadata": {},
          "execution_count": 15
        }
      ]
    },
    {
      "cell_type": "code",
      "metadata": {
        "colab": {
          "base_uri": "https://localhost:8080/"
        },
        "id": "LafEcptx_BCm",
        "outputId": "5da01daf-b55e-4d2c-d9d5-cee76af2c11f"
      },
      "source": [
        "X[0,0]"
      ],
      "execution_count": 16,
      "outputs": [
        {
          "output_type": "execute_result",
          "data": {
            "text/plain": [
              "0.13225548966756542"
            ]
          },
          "metadata": {},
          "execution_count": 16
        }
      ]
    },
    {
      "cell_type": "code",
      "metadata": {
        "id": "EtN72Sod98c1"
      },
      "source": [
        "validation_target = Y[-N//2:]\n",
        "validation_predictions = []\n",
        "i = -N//2\n",
        "\n",
        "while len(validation_predictions) < len(validation_target):\n",
        "  p = model.predict(X[i].reshape(1,-1))[0,0]\n",
        "  i += 1\n",
        "  validation_predictions.append(p)"
      ],
      "execution_count": 17,
      "outputs": []
    },
    {
      "cell_type": "code",
      "metadata": {
        "colab": {
          "base_uri": "https://localhost:8080/",
          "height": 282
        },
        "id": "9LhRGtIJ_8Px",
        "outputId": "9dd75368-83ca-48af-984f-0730f86c869d"
      },
      "source": [
        "plt.plot(validation_predictions, label = 'pred')\n",
        "plt.plot(validation_target, label = 'target')\n",
        "plt.legend()"
      ],
      "execution_count": 18,
      "outputs": [
        {
          "output_type": "execute_result",
          "data": {
            "text/plain": [
              "<matplotlib.legend.Legend at 0x7f901438a9d0>"
            ]
          },
          "metadata": {},
          "execution_count": 18
        },
        {
          "output_type": "display_data",
          "data": {
            "image/png": "[encoded data removed]",
            "text/plain": [
              "<Figure size 432x288 with 1 Axes>"
            ]
          },
          "metadata": {
            "needs_background": "light"
          }
        }
      ]
    },
    {
      "cell_type": "code",
      "metadata": {
        "id": "yGMXa7U3CV7y"
      },
      "source": [
        "validation_target = Y[-N//2:]\n",
        "validation_predictions = []\n",
        "\n",
        "last_x = X[-N//2]\n",
        "\n",
        "while len(validation_predictions) < len(validation_target):\n",
        "  p = model.predict(last_x.reshape(1,-1))[0,0]\n",
        "  validation_predictions.append(p)\n",
        "  last_x = np.roll(last_x, -1)\n",
        "  last_x[-1] = p"
      ],
      "execution_count": 19,
      "outputs": []
    },
    {
      "cell_type": "code",
      "metadata": {
        "colab": {
          "base_uri": "https://localhost:8080/",
          "height": 282
        },
        "id": "-MY945DNE2BX",
        "outputId": "c88de1ae-81d1-419b-cf2a-19c05eb3f3e1"
      },
      "source": [
        "plt.plot(validation_predictions, label = 'pred')\n",
        "plt.plot(validation_target, label = 'target')\n",
        "plt.legend()"
      ],
      "execution_count": 20,
      "outputs": [
        {
          "output_type": "execute_result",
          "data": {
            "text/plain": [
              "<matplotlib.legend.Legend at 0x7f901420a390>"
            ]
          },
          "metadata": {},
          "execution_count": 20
        },
        {
          "output_type": "display_data",
          "data": {
            "image/png": "[encoded data removed]",
            "text/plain": [
              "<Figure size 432x288 with 1 Axes>"
            ]
          },
          "metadata": {
            "needs_background": "light"
          }
        }
      ]
    },
    {
      "cell_type": "code",
      "metadata": {
        "id": "BIpkEmY8FI-b"
      },
      "source": [
        ""
      ],
      "execution_count": 20,
      "outputs": []
    }
  ]
}