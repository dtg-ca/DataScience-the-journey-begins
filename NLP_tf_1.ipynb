{
  "nbformat": 4,
  "nbformat_minor": 0,
  "metadata": {
    "colab": {
      "name": "NLP_tf_1.ipynb",
      "provenance": [],
      "authorship_tag": "ABX9TyPPnbHvle+awRBoGF6mMms4",
      "include_colab_link": true
    },
    "kernelspec": {
      "name": "python3",
      "display_name": "Python 3"
    },
    "language_info": {
      "name": "python"
    }
  },
  "cells": [
    {
      "cell_type": "markdown",
      "metadata": {
        "id": "view-in-github",
        "colab_type": "text"
      },
      "source": [
        "<a href=\"https://colab.research.google.com/github/dtg-ca/DataScience-the-journey-begins/blob/master/NLP_tf_1.ipynb\" target=\"_parent\"><img src=\"https://colab.research.google.com/assets/colab-badge.svg\" alt=\"Open In Colab\"/></a>"
      ]
    },
    {
      "cell_type": "code",
      "metadata": {
        "colab": {
          "base_uri": "https://localhost:8080/"
        },
        "id": "MbFG5lBn-78o",
        "outputId": "91a25935-c272-42e5-b340-b0a23c682249"
      },
      "source": [
        "import tensorflow as tf\n",
        "print(tf.__version__)"
      ],
      "execution_count": 1,
      "outputs": [
        {
          "output_type": "stream",
          "name": "stdout",
          "text": [
            "2.6.0\n"
          ]
        }
      ]
    },
    {
      "cell_type": "code",
      "metadata": {
        "id": "_U2G4dYmEIbN"
      },
      "source": [
        "from sklearn.datasets import load_breast_cancer\n",
        "\n",
        "data = load_breast_cancer()"
      ],
      "execution_count": 2,
      "outputs": []
    },
    {
      "cell_type": "code",
      "metadata": {
        "colab": {
          "base_uri": "https://localhost:8080/"
        },
        "id": "sd-JG3vCE0QV",
        "outputId": "1aa2933b-76ae-42dc-9185-de0adbdd12e5"
      },
      "source": [
        "data.keys()"
      ],
      "execution_count": 3,
      "outputs": [
        {
          "output_type": "execute_result",
          "data": {
            "text/plain": [
              "dict_keys(['data', 'target', 'target_names', 'DESCR', 'feature_names', 'filename'])"
            ]
          },
          "metadata": {},
          "execution_count": 3
        }
      ]
    },
    {
      "cell_type": "code",
      "metadata": {
        "colab": {
          "base_uri": "https://localhost:8080/"
        },
        "id": "v6PZXABRE3hb",
        "outputId": "e715e4d6-ce9b-4f76-9167-97d104955f9f"
      },
      "source": [
        "data.data.shape"
      ],
      "execution_count": 4,
      "outputs": [
        {
          "output_type": "execute_result",
          "data": {
            "text/plain": [
              "(569, 30)"
            ]
          },
          "metadata": {},
          "execution_count": 4
        }
      ]
    },
    {
      "cell_type": "code",
      "metadata": {
        "colab": {
          "base_uri": "https://localhost:8080/"
        },
        "id": "av3kQougE9B4",
        "outputId": "cf2236f9-448a-4502-9989-62429cf30ee7"
      },
      "source": [
        "data['target']"
      ],
      "execution_count": 5,
      "outputs": [
        {
          "output_type": "execute_result",
          "data": {
            "text/plain": [
              "array([0, 0, 0, 0, 0, 0, 0, 0, 0, 0, 0, 0, 0, 0, 0, 0, 0, 0, 0, 1, 1, 1,\n",
              "       0, 0, 0, 0, 0, 0, 0, 0, 0, 0, 0, 0, 0, 0, 0, 1, 0, 0, 0, 0, 0, 0,\n",
              "       0, 0, 1, 0, 1, 1, 1, 1, 1, 0, 0, 1, 0, 0, 1, 1, 1, 1, 0, 1, 0, 0,\n",
              "       1, 1, 1, 1, 0, 1, 0, 0, 1, 0, 1, 0, 0, 1, 1, 1, 0, 0, 1, 0, 0, 0,\n",
              "       1, 1, 1, 0, 1, 1, 0, 0, 1, 1, 1, 0, 0, 1, 1, 1, 1, 0, 1, 1, 0, 1,\n",
              "       1, 1, 1, 1, 1, 1, 1, 0, 0, 0, 1, 0, 0, 1, 1, 1, 0, 0, 1, 0, 1, 0,\n",
              "       0, 1, 0, 0, 1, 1, 0, 1, 1, 0, 1, 1, 1, 1, 0, 1, 1, 1, 1, 1, 1, 1,\n",
              "       1, 1, 0, 1, 1, 1, 1, 0, 0, 1, 0, 1, 1, 0, 0, 1, 1, 0, 0, 1, 1, 1,\n",
              "       1, 0, 1, 1, 0, 0, 0, 1, 0, 1, 0, 1, 1, 1, 0, 1, 1, 0, 0, 1, 0, 0,\n",
              "       0, 0, 1, 0, 0, 0, 1, 0, 1, 0, 1, 1, 0, 1, 0, 0, 0, 0, 1, 1, 0, 0,\n",
              "       1, 1, 1, 0, 1, 1, 1, 1, 1, 0, 0, 1, 1, 0, 1, 1, 0, 0, 1, 0, 1, 1,\n",
              "       1, 1, 0, 1, 1, 1, 1, 1, 0, 1, 0, 0, 0, 0, 0, 0, 0, 0, 0, 0, 0, 0,\n",
              "       0, 0, 1, 1, 1, 1, 1, 1, 0, 1, 0, 1, 1, 0, 1, 1, 0, 1, 0, 0, 1, 1,\n",
              "       1, 1, 1, 1, 1, 1, 1, 1, 1, 1, 1, 0, 1, 1, 0, 1, 0, 1, 1, 1, 1, 1,\n",
              "       1, 1, 1, 1, 1, 1, 1, 1, 1, 0, 1, 1, 1, 0, 1, 0, 1, 1, 1, 1, 0, 0,\n",
              "       0, 1, 1, 1, 1, 0, 1, 0, 1, 0, 1, 1, 1, 0, 1, 1, 1, 1, 1, 1, 1, 0,\n",
              "       0, 0, 1, 1, 1, 1, 1, 1, 1, 1, 1, 1, 1, 0, 0, 1, 0, 0, 0, 1, 0, 0,\n",
              "       1, 1, 1, 1, 1, 0, 1, 1, 1, 1, 1, 0, 1, 1, 1, 0, 1, 1, 0, 0, 1, 1,\n",
              "       1, 1, 1, 1, 0, 1, 1, 1, 1, 1, 1, 1, 0, 1, 1, 1, 1, 1, 0, 1, 1, 0,\n",
              "       1, 1, 1, 1, 1, 1, 1, 1, 1, 1, 1, 1, 0, 1, 0, 0, 1, 0, 1, 1, 1, 1,\n",
              "       1, 0, 1, 1, 0, 1, 0, 1, 1, 0, 1, 0, 1, 1, 1, 1, 1, 1, 1, 1, 0, 0,\n",
              "       1, 1, 1, 1, 1, 1, 0, 1, 1, 1, 1, 1, 1, 1, 1, 1, 1, 0, 1, 1, 1, 1,\n",
              "       1, 1, 1, 0, 1, 0, 1, 1, 0, 1, 1, 1, 1, 1, 0, 0, 1, 0, 1, 0, 1, 1,\n",
              "       1, 1, 1, 0, 1, 1, 0, 1, 0, 1, 0, 0, 1, 1, 1, 0, 1, 1, 1, 1, 1, 1,\n",
              "       1, 1, 1, 1, 1, 0, 1, 0, 0, 1, 1, 1, 1, 1, 1, 1, 1, 1, 1, 1, 1, 1,\n",
              "       1, 1, 1, 1, 1, 1, 1, 1, 1, 1, 1, 1, 0, 0, 0, 0, 0, 0, 1])"
            ]
          },
          "metadata": {},
          "execution_count": 5
        }
      ]
    },
    {
      "cell_type": "code",
      "metadata": {
        "colab": {
          "base_uri": "https://localhost:8080/"
        },
        "id": "NYcSwWPYFDOv",
        "outputId": "504f086f-a0ec-4097-c62e-67b6ca0fd5c6"
      },
      "source": [
        "data['target_names']"
      ],
      "execution_count": 6,
      "outputs": [
        {
          "output_type": "execute_result",
          "data": {
            "text/plain": [
              "array(['malignant', 'benign'], dtype='<U9')"
            ]
          },
          "metadata": {},
          "execution_count": 6
        }
      ]
    },
    {
      "cell_type": "code",
      "metadata": {
        "colab": {
          "base_uri": "https://localhost:8080/"
        },
        "id": "-T8pZx_XFOE0",
        "outputId": "6edbc91a-b6fd-4381-ade2-748469af29c3"
      },
      "source": [
        "data['feature_names']"
      ],
      "execution_count": 7,
      "outputs": [
        {
          "output_type": "execute_result",
          "data": {
            "text/plain": [
              "array(['mean radius', 'mean texture', 'mean perimeter', 'mean area',\n",
              "       'mean smoothness', 'mean compactness', 'mean concavity',\n",
              "       'mean concave points', 'mean symmetry', 'mean fractal dimension',\n",
              "       'radius error', 'texture error', 'perimeter error', 'area error',\n",
              "       'smoothness error', 'compactness error', 'concavity error',\n",
              "       'concave points error', 'symmetry error',\n",
              "       'fractal dimension error', 'worst radius', 'worst texture',\n",
              "       'worst perimeter', 'worst area', 'worst smoothness',\n",
              "       'worst compactness', 'worst concavity', 'worst concave points',\n",
              "       'worst symmetry', 'worst fractal dimension'], dtype='<U23')"
            ]
          },
          "metadata": {},
          "execution_count": 7
        }
      ]
    },
    {
      "cell_type": "code",
      "metadata": {
        "id": "opC6_WEzFSNT"
      },
      "source": [
        "from sklearn.model_selection import train_test_split\n",
        "\n",
        "X_train, X_test, y_train, y_test = train_test_split(data.data, data.target, test_size = 0.33)\n",
        "\n",
        "N, D = X_train.shape"
      ],
      "execution_count": 8,
      "outputs": []
    },
    {
      "cell_type": "code",
      "metadata": {
        "id": "MvxR96EhHhr1"
      },
      "source": [
        "from sklearn.preprocessing import StandardScaler\n",
        "\n",
        "scaler = StandardScaler()\n",
        "\n",
        "X_train = scaler.fit_transform(X_train)\n",
        "X_test = scaler.transform(X_test)"
      ],
      "execution_count": 9,
      "outputs": []
    },
    {
      "cell_type": "code",
      "metadata": {
        "colab": {
          "base_uri": "https://localhost:8080/"
        },
        "id": "aGljPvDNITwk",
        "outputId": "84049bf3-adb3-4e4a-e724-bd4425fae6d6"
      },
      "source": [
        "model = tf.keras.models.Sequential()\n",
        "\n",
        "model.add(tf.keras.layers.Dense(1, input_shape = (D,),activation = 'sigmoid'))\n",
        "\n",
        "model.compile(optimizer = 'adam', loss = 'binary_crossentropy', metrics = ['accuracy'])\n",
        "\n",
        "r = model.fit(X_train, y_train, validation_data = (X_test, y_test), epochs = 100)\n",
        "\n",
        "print('Train Score: ', model.evaluate(X_train, y_train))\n",
        "\n",
        "print('Test Score: ', model.evaluate(X_test, y_test))"
      ],
      "execution_count": 10,
      "outputs": [
        {
          "output_type": "stream",
          "name": "stdout",
          "text": [
            "Epoch 1/100\n",
            "12/12 [==============================] - 1s 20ms/step - loss: 2.0273 - accuracy: 0.0945 - val_loss: 1.9267 - val_accuracy: 0.0798\n",
            "Epoch 2/100\n",
            "12/12 [==============================] - 0s 5ms/step - loss: 1.8843 - accuracy: 0.0997 - val_loss: 1.7879 - val_accuracy: 0.0851\n",
            "Epoch 3/100\n",
            "12/12 [==============================] - 0s 5ms/step - loss: 1.7446 - accuracy: 0.1076 - val_loss: 1.6537 - val_accuracy: 0.0798\n",
            "Epoch 4/100\n",
            "12/12 [==============================] - 0s 4ms/step - loss: 1.6119 - accuracy: 0.1129 - val_loss: 1.5241 - val_accuracy: 0.0957\n",
            "Epoch 5/100\n",
            "12/12 [==============================] - 0s 4ms/step - loss: 1.4856 - accuracy: 0.1155 - val_loss: 1.3989 - val_accuracy: 0.1064\n",
            "Epoch 6/100\n",
            "12/12 [==============================] - 0s 4ms/step - loss: 1.3611 - accuracy: 0.1286 - val_loss: 1.2838 - val_accuracy: 0.1117\n",
            "Epoch 7/100\n",
            "12/12 [==============================] - 0s 5ms/step - loss: 1.2480 - accuracy: 0.1627 - val_loss: 1.1754 - val_accuracy: 0.1489\n",
            "Epoch 8/100\n",
            "12/12 [==============================] - 0s 6ms/step - loss: 1.1422 - accuracy: 0.1864 - val_loss: 1.0752 - val_accuracy: 0.2021\n",
            "Epoch 9/100\n",
            "12/12 [==============================] - 0s 4ms/step - loss: 1.0417 - accuracy: 0.2257 - val_loss: 0.9872 - val_accuracy: 0.2819\n",
            "Epoch 10/100\n",
            "12/12 [==============================] - 0s 4ms/step - loss: 0.9550 - accuracy: 0.2730 - val_loss: 0.9063 - val_accuracy: 0.3564\n",
            "Epoch 11/100\n",
            "12/12 [==============================] - 0s 5ms/step - loss: 0.8756 - accuracy: 0.3648 - val_loss: 0.8346 - val_accuracy: 0.4415\n",
            "Epoch 12/100\n",
            "12/12 [==============================] - 0s 4ms/step - loss: 0.8065 - accuracy: 0.4541 - val_loss: 0.7709 - val_accuracy: 0.5000\n",
            "Epoch 13/100\n",
            "12/12 [==============================] - 0s 4ms/step - loss: 0.7438 - accuracy: 0.5118 - val_loss: 0.7165 - val_accuracy: 0.6064\n",
            "Epoch 14/100\n",
            "12/12 [==============================] - 0s 5ms/step - loss: 0.6914 - accuracy: 0.5617 - val_loss: 0.6680 - val_accuracy: 0.6383\n",
            "Epoch 15/100\n",
            "12/12 [==============================] - 0s 4ms/step - loss: 0.6438 - accuracy: 0.6247 - val_loss: 0.6271 - val_accuracy: 0.6649\n",
            "Epoch 16/100\n",
            "12/12 [==============================] - 0s 4ms/step - loss: 0.6035 - accuracy: 0.6667 - val_loss: 0.5902 - val_accuracy: 0.7128\n",
            "Epoch 17/100\n",
            "12/12 [==============================] - 0s 5ms/step - loss: 0.5670 - accuracy: 0.7349 - val_loss: 0.5584 - val_accuracy: 0.7660\n",
            "Epoch 18/100\n",
            "12/12 [==============================] - 0s 6ms/step - loss: 0.5355 - accuracy: 0.7822 - val_loss: 0.5297 - val_accuracy: 0.7926\n",
            "Epoch 19/100\n",
            "12/12 [==============================] - 0s 6ms/step - loss: 0.5075 - accuracy: 0.7953 - val_loss: 0.5041 - val_accuracy: 0.7979\n",
            "Epoch 20/100\n",
            "12/12 [==============================] - 0s 5ms/step - loss: 0.4820 - accuracy: 0.8189 - val_loss: 0.4817 - val_accuracy: 0.8191\n",
            "Epoch 21/100\n",
            "12/12 [==============================] - 0s 6ms/step - loss: 0.4594 - accuracy: 0.8320 - val_loss: 0.4614 - val_accuracy: 0.8191\n",
            "Epoch 22/100\n",
            "12/12 [==============================] - 0s 4ms/step - loss: 0.4390 - accuracy: 0.8451 - val_loss: 0.4432 - val_accuracy: 0.8191\n",
            "Epoch 23/100\n",
            "12/12 [==============================] - 0s 6ms/step - loss: 0.4207 - accuracy: 0.8583 - val_loss: 0.4264 - val_accuracy: 0.8457\n",
            "Epoch 24/100\n",
            "12/12 [==============================] - 0s 5ms/step - loss: 0.4036 - accuracy: 0.8635 - val_loss: 0.4114 - val_accuracy: 0.8670\n",
            "Epoch 25/100\n",
            "12/12 [==============================] - 0s 4ms/step - loss: 0.3884 - accuracy: 0.8661 - val_loss: 0.3974 - val_accuracy: 0.8723\n",
            "Epoch 26/100\n",
            "12/12 [==============================] - 0s 6ms/step - loss: 0.3744 - accuracy: 0.8714 - val_loss: 0.3846 - val_accuracy: 0.8723\n",
            "Epoch 27/100\n",
            "12/12 [==============================] - 0s 4ms/step - loss: 0.3615 - accuracy: 0.8819 - val_loss: 0.3729 - val_accuracy: 0.8830\n",
            "Epoch 28/100\n",
            "12/12 [==============================] - 0s 5ms/step - loss: 0.3495 - accuracy: 0.8871 - val_loss: 0.3621 - val_accuracy: 0.8830\n",
            "Epoch 29/100\n",
            "12/12 [==============================] - 0s 4ms/step - loss: 0.3388 - accuracy: 0.8924 - val_loss: 0.3516 - val_accuracy: 0.8830\n",
            "Epoch 30/100\n",
            "12/12 [==============================] - 0s 4ms/step - loss: 0.3283 - accuracy: 0.8950 - val_loss: 0.3423 - val_accuracy: 0.8883\n",
            "Epoch 31/100\n",
            "12/12 [==============================] - 0s 5ms/step - loss: 0.3188 - accuracy: 0.9055 - val_loss: 0.3334 - val_accuracy: 0.8936\n",
            "Epoch 32/100\n",
            "12/12 [==============================] - 0s 4ms/step - loss: 0.3100 - accuracy: 0.9081 - val_loss: 0.3252 - val_accuracy: 0.8936\n",
            "Epoch 33/100\n",
            "12/12 [==============================] - 0s 5ms/step - loss: 0.3015 - accuracy: 0.9108 - val_loss: 0.3176 - val_accuracy: 0.8936\n",
            "Epoch 34/100\n",
            "12/12 [==============================] - 0s 5ms/step - loss: 0.2939 - accuracy: 0.9134 - val_loss: 0.3102 - val_accuracy: 0.8989\n",
            "Epoch 35/100\n",
            "12/12 [==============================] - 0s 5ms/step - loss: 0.2865 - accuracy: 0.9186 - val_loss: 0.3034 - val_accuracy: 0.9043\n",
            "Epoch 36/100\n",
            "12/12 [==============================] - 0s 4ms/step - loss: 0.2796 - accuracy: 0.9213 - val_loss: 0.2969 - val_accuracy: 0.9043\n",
            "Epoch 37/100\n",
            "12/12 [==============================] - 0s 4ms/step - loss: 0.2732 - accuracy: 0.9239 - val_loss: 0.2909 - val_accuracy: 0.9043\n",
            "Epoch 38/100\n",
            "12/12 [==============================] - 0s 5ms/step - loss: 0.2671 - accuracy: 0.9265 - val_loss: 0.2851 - val_accuracy: 0.9096\n",
            "Epoch 39/100\n",
            "12/12 [==============================] - 0s 4ms/step - loss: 0.2613 - accuracy: 0.9318 - val_loss: 0.2795 - val_accuracy: 0.9149\n",
            "Epoch 40/100\n",
            "12/12 [==============================] - 0s 4ms/step - loss: 0.2558 - accuracy: 0.9318 - val_loss: 0.2743 - val_accuracy: 0.9149\n",
            "Epoch 41/100\n",
            "12/12 [==============================] - 0s 4ms/step - loss: 0.2505 - accuracy: 0.9318 - val_loss: 0.2694 - val_accuracy: 0.9149\n",
            "Epoch 42/100\n",
            "12/12 [==============================] - 0s 5ms/step - loss: 0.2457 - accuracy: 0.9344 - val_loss: 0.2647 - val_accuracy: 0.9149\n",
            "Epoch 43/100\n",
            "12/12 [==============================] - 0s 4ms/step - loss: 0.2409 - accuracy: 0.9370 - val_loss: 0.2602 - val_accuracy: 0.9149\n",
            "Epoch 44/100\n",
            "12/12 [==============================] - 0s 5ms/step - loss: 0.2365 - accuracy: 0.9396 - val_loss: 0.2559 - val_accuracy: 0.9149\n",
            "Epoch 45/100\n",
            "12/12 [==============================] - 0s 5ms/step - loss: 0.2321 - accuracy: 0.9396 - val_loss: 0.2519 - val_accuracy: 0.9149\n",
            "Epoch 46/100\n",
            "12/12 [==============================] - 0s 4ms/step - loss: 0.2281 - accuracy: 0.9396 - val_loss: 0.2481 - val_accuracy: 0.9149\n",
            "Epoch 47/100\n",
            "12/12 [==============================] - 0s 4ms/step - loss: 0.2243 - accuracy: 0.9396 - val_loss: 0.2442 - val_accuracy: 0.9149\n",
            "Epoch 48/100\n",
            "12/12 [==============================] - 0s 5ms/step - loss: 0.2205 - accuracy: 0.9396 - val_loss: 0.2406 - val_accuracy: 0.9149\n",
            "Epoch 49/100\n",
            "12/12 [==============================] - 0s 5ms/step - loss: 0.2169 - accuracy: 0.9423 - val_loss: 0.2372 - val_accuracy: 0.9149\n",
            "Epoch 50/100\n",
            "12/12 [==============================] - 0s 5ms/step - loss: 0.2134 - accuracy: 0.9449 - val_loss: 0.2340 - val_accuracy: 0.9149\n",
            "Epoch 51/100\n",
            "12/12 [==============================] - 0s 4ms/step - loss: 0.2102 - accuracy: 0.9501 - val_loss: 0.2308 - val_accuracy: 0.9149\n",
            "Epoch 52/100\n",
            "12/12 [==============================] - 0s 5ms/step - loss: 0.2070 - accuracy: 0.9528 - val_loss: 0.2277 - val_accuracy: 0.9149\n",
            "Epoch 53/100\n",
            "12/12 [==============================] - 0s 5ms/step - loss: 0.2039 - accuracy: 0.9528 - val_loss: 0.2249 - val_accuracy: 0.9202\n",
            "Epoch 54/100\n",
            "12/12 [==============================] - 0s 6ms/step - loss: 0.2010 - accuracy: 0.9528 - val_loss: 0.2221 - val_accuracy: 0.9202\n",
            "Epoch 55/100\n",
            "12/12 [==============================] - 0s 5ms/step - loss: 0.1981 - accuracy: 0.9528 - val_loss: 0.2193 - val_accuracy: 0.9202\n",
            "Epoch 56/100\n",
            "12/12 [==============================] - 0s 6ms/step - loss: 0.1954 - accuracy: 0.9528 - val_loss: 0.2168 - val_accuracy: 0.9202\n",
            "Epoch 57/100\n",
            "12/12 [==============================] - 0s 4ms/step - loss: 0.1928 - accuracy: 0.9528 - val_loss: 0.2142 - val_accuracy: 0.9202\n",
            "Epoch 58/100\n",
            "12/12 [==============================] - 0s 4ms/step - loss: 0.1902 - accuracy: 0.9528 - val_loss: 0.2118 - val_accuracy: 0.9202\n",
            "Epoch 59/100\n",
            "12/12 [==============================] - 0s 4ms/step - loss: 0.1878 - accuracy: 0.9528 - val_loss: 0.2094 - val_accuracy: 0.9202\n",
            "Epoch 60/100\n",
            "12/12 [==============================] - 0s 6ms/step - loss: 0.1854 - accuracy: 0.9554 - val_loss: 0.2072 - val_accuracy: 0.9202\n",
            "Epoch 61/100\n",
            "12/12 [==============================] - 0s 7ms/step - loss: 0.1831 - accuracy: 0.9554 - val_loss: 0.2049 - val_accuracy: 0.9202\n",
            "Epoch 62/100\n",
            "12/12 [==============================] - 0s 5ms/step - loss: 0.1809 - accuracy: 0.9554 - val_loss: 0.2029 - val_accuracy: 0.9202\n",
            "Epoch 63/100\n",
            "12/12 [==============================] - 0s 5ms/step - loss: 0.1787 - accuracy: 0.9554 - val_loss: 0.2008 - val_accuracy: 0.9202\n",
            "Epoch 64/100\n",
            "12/12 [==============================] - 0s 5ms/step - loss: 0.1766 - accuracy: 0.9580 - val_loss: 0.1988 - val_accuracy: 0.9202\n",
            "Epoch 65/100\n",
            "12/12 [==============================] - 0s 4ms/step - loss: 0.1746 - accuracy: 0.9580 - val_loss: 0.1969 - val_accuracy: 0.9202\n",
            "Epoch 66/100\n",
            "12/12 [==============================] - 0s 5ms/step - loss: 0.1726 - accuracy: 0.9606 - val_loss: 0.1950 - val_accuracy: 0.9202\n",
            "Epoch 67/100\n",
            "12/12 [==============================] - 0s 5ms/step - loss: 0.1707 - accuracy: 0.9606 - val_loss: 0.1932 - val_accuracy: 0.9202\n",
            "Epoch 68/100\n",
            "12/12 [==============================] - 0s 4ms/step - loss: 0.1688 - accuracy: 0.9606 - val_loss: 0.1914 - val_accuracy: 0.9202\n",
            "Epoch 69/100\n",
            "12/12 [==============================] - 0s 6ms/step - loss: 0.1670 - accuracy: 0.9606 - val_loss: 0.1897 - val_accuracy: 0.9202\n",
            "Epoch 70/100\n",
            "12/12 [==============================] - 0s 4ms/step - loss: 0.1653 - accuracy: 0.9633 - val_loss: 0.1881 - val_accuracy: 0.9202\n",
            "Epoch 71/100\n",
            "12/12 [==============================] - 0s 5ms/step - loss: 0.1635 - accuracy: 0.9633 - val_loss: 0.1865 - val_accuracy: 0.9202\n",
            "Epoch 72/100\n",
            "12/12 [==============================] - 0s 4ms/step - loss: 0.1619 - accuracy: 0.9633 - val_loss: 0.1849 - val_accuracy: 0.9202\n",
            "Epoch 73/100\n",
            "12/12 [==============================] - 0s 5ms/step - loss: 0.1603 - accuracy: 0.9633 - val_loss: 0.1835 - val_accuracy: 0.9202\n",
            "Epoch 74/100\n",
            "12/12 [==============================] - 0s 5ms/step - loss: 0.1587 - accuracy: 0.9659 - val_loss: 0.1820 - val_accuracy: 0.9202\n",
            "Epoch 75/100\n",
            "12/12 [==============================] - 0s 5ms/step - loss: 0.1571 - accuracy: 0.9659 - val_loss: 0.1805 - val_accuracy: 0.9202\n",
            "Epoch 76/100\n",
            "12/12 [==============================] - 0s 6ms/step - loss: 0.1556 - accuracy: 0.9685 - val_loss: 0.1792 - val_accuracy: 0.9202\n",
            "Epoch 77/100\n",
            "12/12 [==============================] - 0s 6ms/step - loss: 0.1542 - accuracy: 0.9685 - val_loss: 0.1778 - val_accuracy: 0.9202\n",
            "Epoch 78/100\n",
            "12/12 [==============================] - 0s 4ms/step - loss: 0.1527 - accuracy: 0.9685 - val_loss: 0.1765 - val_accuracy: 0.9202\n",
            "Epoch 79/100\n",
            "12/12 [==============================] - 0s 5ms/step - loss: 0.1513 - accuracy: 0.9685 - val_loss: 0.1752 - val_accuracy: 0.9202\n",
            "Epoch 80/100\n",
            "12/12 [==============================] - 0s 4ms/step - loss: 0.1500 - accuracy: 0.9685 - val_loss: 0.1739 - val_accuracy: 0.9202\n",
            "Epoch 81/100\n",
            "12/12 [==============================] - 0s 4ms/step - loss: 0.1486 - accuracy: 0.9685 - val_loss: 0.1727 - val_accuracy: 0.9255\n",
            "Epoch 82/100\n",
            "12/12 [==============================] - 0s 4ms/step - loss: 0.1473 - accuracy: 0.9685 - val_loss: 0.1715 - val_accuracy: 0.9255\n",
            "Epoch 83/100\n",
            "12/12 [==============================] - 0s 6ms/step - loss: 0.1461 - accuracy: 0.9685 - val_loss: 0.1703 - val_accuracy: 0.9255\n",
            "Epoch 84/100\n",
            "12/12 [==============================] - 0s 4ms/step - loss: 0.1448 - accuracy: 0.9685 - val_loss: 0.1692 - val_accuracy: 0.9255\n",
            "Epoch 85/100\n",
            "12/12 [==============================] - 0s 5ms/step - loss: 0.1436 - accuracy: 0.9685 - val_loss: 0.1681 - val_accuracy: 0.9255\n",
            "Epoch 86/100\n",
            "12/12 [==============================] - 0s 6ms/step - loss: 0.1424 - accuracy: 0.9685 - val_loss: 0.1671 - val_accuracy: 0.9309\n",
            "Epoch 87/100\n",
            "12/12 [==============================] - 0s 5ms/step - loss: 0.1412 - accuracy: 0.9685 - val_loss: 0.1660 - val_accuracy: 0.9309\n",
            "Epoch 88/100\n",
            "12/12 [==============================] - 0s 6ms/step - loss: 0.1401 - accuracy: 0.9685 - val_loss: 0.1650 - val_accuracy: 0.9309\n",
            "Epoch 89/100\n",
            "12/12 [==============================] - 0s 6ms/step - loss: 0.1390 - accuracy: 0.9685 - val_loss: 0.1639 - val_accuracy: 0.9309\n",
            "Epoch 90/100\n",
            "12/12 [==============================] - 0s 5ms/step - loss: 0.1379 - accuracy: 0.9711 - val_loss: 0.1630 - val_accuracy: 0.9309\n",
            "Epoch 91/100\n",
            "12/12 [==============================] - 0s 5ms/step - loss: 0.1368 - accuracy: 0.9711 - val_loss: 0.1620 - val_accuracy: 0.9309\n",
            "Epoch 92/100\n",
            "12/12 [==============================] - 0s 4ms/step - loss: 0.1358 - accuracy: 0.9711 - val_loss: 0.1611 - val_accuracy: 0.9309\n",
            "Epoch 93/100\n",
            "12/12 [==============================] - 0s 4ms/step - loss: 0.1347 - accuracy: 0.9711 - val_loss: 0.1602 - val_accuracy: 0.9309\n",
            "Epoch 94/100\n",
            "12/12 [==============================] - 0s 6ms/step - loss: 0.1338 - accuracy: 0.9711 - val_loss: 0.1592 - val_accuracy: 0.9309\n",
            "Epoch 95/100\n",
            "12/12 [==============================] - 0s 5ms/step - loss: 0.1327 - accuracy: 0.9711 - val_loss: 0.1584 - val_accuracy: 0.9309\n",
            "Epoch 96/100\n",
            "12/12 [==============================] - 0s 5ms/step - loss: 0.1318 - accuracy: 0.9711 - val_loss: 0.1575 - val_accuracy: 0.9309\n",
            "Epoch 97/100\n",
            "12/12 [==============================] - 0s 6ms/step - loss: 0.1308 - accuracy: 0.9711 - val_loss: 0.1567 - val_accuracy: 0.9309\n",
            "Epoch 98/100\n",
            "12/12 [==============================] - 0s 4ms/step - loss: 0.1299 - accuracy: 0.9711 - val_loss: 0.1559 - val_accuracy: 0.9362\n",
            "Epoch 99/100\n",
            "12/12 [==============================] - 0s 5ms/step - loss: 0.1289 - accuracy: 0.9711 - val_loss: 0.1551 - val_accuracy: 0.9362\n",
            "Epoch 100/100\n",
            "12/12 [==============================] - 0s 5ms/step - loss: 0.1280 - accuracy: 0.9711 - val_loss: 0.1543 - val_accuracy: 0.9362\n",
            "12/12 [==============================] - 0s 2ms/step - loss: 0.1276 - accuracy: 0.9711\n",
            "Train Score:  [0.1275547593832016, 0.9711285829544067]\n",
            "6/6 [==============================] - 0s 3ms/step - loss: 0.1543 - accuracy: 0.9362\n",
            "Test Score:  [0.1543128937482834, 0.936170220375061]\n"
          ]
        }
      ]
    },
    {
      "cell_type": "code",
      "metadata": {
        "colab": {
          "base_uri": "https://localhost:8080/",
          "height": 282
        },
        "id": "m0e6rRmjPoln",
        "outputId": "732c9c7e-668b-4ee4-f1cc-5662e684696e"
      },
      "source": [
        "import matplotlib.pyplot as plt\n",
        "\n",
        "plt.plot(r.history['loss'], label = \"loss\")\n",
        "plt.plot(r.history['val_loss'], label = 'val_loss')\n",
        "plt.legend()"
      ],
      "execution_count": 11,
      "outputs": [
        {
          "output_type": "execute_result",
          "data": {
            "text/plain": [
              "<matplotlib.legend.Legend at 0x7f5061803550>"
            ]
          },
          "metadata": {},
          "execution_count": 11
        },
        {
          "output_type": "display_data",
          "data": {
            "image/png": "[encoded data removed]",
            "text/plain": [
              "<Figure size 432x288 with 1 Axes>"
            ]
          },
          "metadata": {
            "needs_background": "light"
          }
        }
      ]
    },
    {
      "cell_type": "code",
      "metadata": {
        "colab": {
          "base_uri": "https://localhost:8080/",
          "height": 283
        },
        "id": "pbSmfM4JQtLK",
        "outputId": "69443f51-a44e-4ec2-c0b9-befc54b325f9"
      },
      "source": [
        "plt.plot(r.history['accuracy'], label = 'accuracy')\n",
        "plt.plot(r.history['val_accuracy'], label = 'val_accuracy')"
      ],
      "execution_count": 14,
      "outputs": [
        {
          "output_type": "execute_result",
          "data": {
            "text/plain": [
              "[<matplotlib.lines.Line2D at 0x7f505a6aa590>]"
            ]
          },
          "metadata": {},
          "execution_count": 14
        },
        {
          "output_type": "display_data",
          "data": {
            "image/png": "[encoded data removed]",
            "text/plain": [
              "<Figure size 432x288 with 1 Axes>"
            ]
          },
          "metadata": {
            "needs_background": "light"
          }
        }
      ]
    }
  ]
}