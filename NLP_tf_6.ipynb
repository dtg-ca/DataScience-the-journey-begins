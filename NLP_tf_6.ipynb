{
  "nbformat": 4,
  "nbformat_minor": 0,
  "metadata": {
    "colab": {
      "name": "NLP_tf_6.ipynb",
      "provenance": [],
      "authorship_tag": "ABX9TyP2x6OY/tpHVJmxVuI/wpAu",
      "include_colab_link": true
    },
    "kernelspec": {
      "name": "python3",
      "display_name": "Python 3"
    },
    "language_info": {
      "name": "python"
    }
  },
  "cells": [
    {
      "cell_type": "markdown",
      "metadata": {
        "id": "view-in-github",
        "colab_type": "text"
      },
      "source": [
        "<a href=\"https://colab.research.google.com/github/dtg-ca/DataScience-the-journey-begins/blob/master/NLP_tf_6.ipynb\" target=\"_parent\"><img src=\"https://colab.research.google.com/assets/colab-badge.svg\" alt=\"Open In Colab\"/></a>"
      ]
    },
    {
      "cell_type": "code",
      "metadata": {
        "colab": {
          "base_uri": "https://localhost:8080/"
        },
        "id": "_D5eDqb0r_WV",
        "outputId": "e8d876ef-9ad3-4105-ffff-81def31e30da"
      },
      "source": [
        "import tensorflow as tf\n",
        "print(tf.__version__)"
      ],
      "execution_count": 1,
      "outputs": [
        {
          "output_type": "stream",
          "name": "stdout",
          "text": [
            "2.6.0\n"
          ]
        }
      ]
    },
    {
      "cell_type": "code",
      "metadata": {
        "id": "LqfsXoS_sOYe"
      },
      "source": [
        "import pandas as pd\n",
        "import numpy as np\n",
        "import matplotlib.pyplot as plt"
      ],
      "execution_count": 2,
      "outputs": []
    },
    {
      "cell_type": "code",
      "metadata": {
        "id": "d9--_2iWsYdz"
      },
      "source": [
        "from tensorflow.keras.layers import Input,SimpleRNN,Dense,Flatten\n",
        "from tensorflow.keras.models import Model\n",
        "from tensorflow.keras.optimizers import SGD, Adam"
      ],
      "execution_count": 3,
      "outputs": []
    },
    {
      "cell_type": "code",
      "metadata": {
        "colab": {
          "base_uri": "https://localhost:8080/"
        },
        "id": "dKLX-LSksxLw",
        "outputId": "115f5524-8050-4be7-e471-56694b6e3b01"
      },
      "source": [
        "x = np.random.randn(1,3,5)\n",
        "x"
      ],
      "execution_count": 4,
      "outputs": [
        {
          "output_type": "execute_result",
          "data": {
            "text/plain": [
              "array([[[-0.35259597, -0.94353924, -0.17276629,  1.32714757,\n",
              "          0.93922447],\n",
              "        [-2.23122387,  1.04491917, -1.24386436,  0.08866162,\n",
              "         -1.68104961],\n",
              "        [ 0.75813034, -0.17022831, -2.03100899,  1.34653874,\n",
              "         -0.80845012]]])"
            ]
          },
          "metadata": {},
          "execution_count": 4
        }
      ]
    },
    {
      "cell_type": "code",
      "metadata": {
        "id": "s8n56uNBs8rP"
      },
      "source": [
        "N = 3\n",
        "T = 10\n",
        "D = 3\n",
        "K = 2\n",
        "X = np.random.randn(N, T, D)"
      ],
      "execution_count": 19,
      "outputs": []
    },
    {
      "cell_type": "code",
      "metadata": {
        "id": "UXLnOhm-xrUm"
      },
      "source": [
        "M = 5\n",
        "i = Input(shape = (T,D))\n",
        "x = SimpleRNN(M)(i)\n",
        "x = Dense(K)(x)\n",
        "model = Model(i, x)"
      ],
      "execution_count": 20,
      "outputs": []
    },
    {
      "cell_type": "code",
      "metadata": {
        "colab": {
          "base_uri": "https://localhost:8080/"
        },
        "id": "y9OWg-mVyYOa",
        "outputId": "f3880541-ed4f-49f9-8637-19938ea536a1"
      },
      "source": [
        "Yhat = model.predict(X)\n",
        "print(Yhat), Yhat.shape"
      ],
      "execution_count": 21,
      "outputs": [
        {
          "output_type": "stream",
          "name": "stdout",
          "text": [
            "[[-0.27688962 -0.21762127]\n",
            " [-0.36972883  0.01276474]\n",
            " [ 0.91572547 -0.31455   ]]\n"
          ]
        },
        {
          "output_type": "execute_result",
          "data": {
            "text/plain": [
              "(None, (3, 2))"
            ]
          },
          "metadata": {},
          "execution_count": 21
        }
      ]
    },
    {
      "cell_type": "code",
      "metadata": {
        "colab": {
          "base_uri": "https://localhost:8080/"
        },
        "id": "lPstvz-oy9JR",
        "outputId": "e9e0e6c8-601f-4c7c-e0d0-835855855aed"
      },
      "source": [
        "model.summary()"
      ],
      "execution_count": 22,
      "outputs": [
        {
          "output_type": "stream",
          "name": "stdout",
          "text": [
            "Model: \"model_2\"\n",
            "_________________________________________________________________\n",
            "Layer (type)                 Output Shape              Param #   \n",
            "=================================================================\n",
            "input_3 (InputLayer)         [(None, 10, 3)]           0         \n",
            "_________________________________________________________________\n",
            "simple_rnn_2 (SimpleRNN)     (None, 5)                 45        \n",
            "_________________________________________________________________\n",
            "dense_2 (Dense)              (None, 2)                 12        \n",
            "=================================================================\n",
            "Total params: 57\n",
            "Trainable params: 57\n",
            "Non-trainable params: 0\n",
            "_________________________________________________________________\n"
          ]
        }
      ]
    },
    {
      "cell_type": "code",
      "metadata": {
        "colab": {
          "base_uri": "https://localhost:8080/"
        },
        "id": "OuvzArwNzVig",
        "outputId": "f9cd9cec-b6e2-4bbf-8a1a-f51b6153c002"
      },
      "source": [
        "model.layers[1].get_weights()"
      ],
      "execution_count": 23,
      "outputs": [
        {
          "output_type": "execute_result",
          "data": {
            "text/plain": [
              "[array([[-0.8643438 ,  0.355532  ,  0.54011995,  0.27587396,  0.534576  ],\n",
              "        [-0.6776891 ,  0.502389  , -0.05873042,  0.7004878 ,  0.70981497],\n",
              "        [ 0.10971874, -0.6457157 ,  0.39609927, -0.5023452 ,  0.799154  ]],\n",
              "       dtype=float32),\n",
              " array([[ 0.2673428 ,  0.68627113, -0.44664103,  0.50690085, -0.03351386],\n",
              "        [-0.8667022 , -0.00326573, -0.45186114,  0.07640459,  0.196978  ],\n",
              "        [-0.41190168,  0.41953352,  0.5442859 ,  0.08971736, -0.59163517],\n",
              "        [ 0.08110937,  0.07604201, -0.5114762 , -0.6340353 , -0.5692364 ],\n",
              "        [ 0.03336583, -0.58926284, -0.19615805,  0.5719824 , -0.53480303]],\n",
              "       dtype=float32),\n",
              " array([0., 0., 0., 0., 0.], dtype=float32)]"
            ]
          },
          "metadata": {},
          "execution_count": 23
        }
      ]
    },
    {
      "cell_type": "code",
      "metadata": {
        "colab": {
          "base_uri": "https://localhost:8080/"
        },
        "id": "Oh7HPUxH1Hvo",
        "outputId": "4cefe5b8-dc53-4270-b322-517019522a44"
      },
      "source": [
        "a, b, c = model.layers[1].get_weights()\n",
        "print(a.shape, b.shape, c.shape)"
      ],
      "execution_count": 24,
      "outputs": [
        {
          "output_type": "stream",
          "name": "stdout",
          "text": [
            "(3, 5) (5, 5) (5,)\n"
          ]
        }
      ]
    },
    {
      "cell_type": "code",
      "metadata": {
        "id": "YbrDLY0o15M4"
      },
      "source": [
        "Wx, Wh, bh = model.layers[1].get_weights()\n",
        "Wo, bo = model.layers[2].get_weights()"
      ],
      "execution_count": 25,
      "outputs": []
    },
    {
      "cell_type": "code",
      "metadata": {
        "colab": {
          "base_uri": "https://localhost:8080/"
        },
        "id": "B9tWyc0D71NK",
        "outputId": "0af051e3-45f8-4316-f5d4-496b18aa4595"
      },
      "source": [
        "h_last = np.zeros(M)\n",
        "x = X[0]\n",
        "Yhats = []\n",
        "\n",
        "for t in range(T):\n",
        "  h = np.tanh(x[t].dot(Wx) + h_last.dot(Wh) + bh)\n",
        "  y = h.dot(Wo) + bo\n",
        "  Yhats.append(y)\n",
        "\n",
        "  h_last = h\n",
        "print(Yhats[-1])"
      ],
      "execution_count": 30,
      "outputs": [
        {
          "output_type": "stream",
          "name": "stdout",
          "text": [
            "[-0.27688972 -0.21762126]\n"
          ]
        }
      ]
    },
    {
      "cell_type": "code",
      "metadata": {
        "id": "pg5oIgS69l8-"
      },
      "source": [
        ""
      ],
      "execution_count": null,
      "outputs": []
    }
  ]
}