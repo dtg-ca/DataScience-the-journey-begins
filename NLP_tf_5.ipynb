{
  "nbformat": 4,
  "nbformat_minor": 0,
  "metadata": {
    "colab": {
      "name": "NLP_tf_5.ipynb",
      "provenance": [],
      "authorship_tag": "ABX9TyPhBMv0qBegNpu5K+9ihyaH",
      "include_colab_link": true
    },
    "kernelspec": {
      "name": "python3",
      "display_name": "Python 3"
    },
    "language_info": {
      "name": "python"
    }
  },
  "cells": [
    {
      "cell_type": "markdown",
      "metadata": {
        "id": "view-in-github",
        "colab_type": "text"
      },
      "source": [
        "<a href=\"https://colab.research.google.com/github/dtg-ca/DataScience-the-journey-begins/blob/master/NLP_tf_5.ipynb\" target=\"_parent\"><img src=\"https://colab.research.google.com/assets/colab-badge.svg\" alt=\"Open In Colab\"/></a>"
      ]
    },
    {
      "cell_type": "code",
      "metadata": {
        "colab": {
          "base_uri": "https://localhost:8080/"
        },
        "id": "AzcqPAFHUacI",
        "outputId": "8ae3ecb4-9793-451d-fc13-37e542e8fde2"
      },
      "source": [
        "import tensorflow as tf\n",
        "print(tf.__version__)"
      ],
      "execution_count": 1,
      "outputs": [
        {
          "output_type": "stream",
          "name": "stdout",
          "text": [
            "2.6.0\n"
          ]
        }
      ]
    },
    {
      "cell_type": "code",
      "metadata": {
        "id": "KKUe5kzOUmow"
      },
      "source": [
        "import pandas as pd\n",
        "import numpy as np\n",
        "import matplotlib.pyplot as plt"
      ],
      "execution_count": 2,
      "outputs": []
    },
    {
      "cell_type": "code",
      "metadata": {
        "id": "gInRKX6wUvg2"
      },
      "source": [
        "from tensorflow.keras.layers import Input, SimpleRNN, Dense\n",
        "from tensorflow.keras.models import Model\n",
        "from tensorflow.keras.optimizers import SGD, Adam"
      ],
      "execution_count": 3,
      "outputs": []
    },
    {
      "cell_type": "code",
      "metadata": {
        "colab": {
          "base_uri": "https://localhost:8080/",
          "height": 265
        },
        "id": "YVVDmbEkVUgx",
        "outputId": "2117dceb-67e8-410c-d276-122b3c872124"
      },
      "source": [
        "series = np.sin(0.1* np.arange(200))\n",
        "\n",
        "plt.plot(series)\n",
        "plt.show()"
      ],
      "execution_count": 4,
      "outputs": [
        {
          "output_type": "display_data",
          "data": {
            "image/png": "[encoded data removed]",
            "text/plain": [
              "<Figure size 432x288 with 1 Axes>"
            ]
          },
          "metadata": {
            "needs_background": "light"
          }
        }
      ]
    },
    {
      "cell_type": "code",
      "metadata": {
        "colab": {
          "base_uri": "https://localhost:8080/"
        },
        "id": "Jr8yx_IhVyWK",
        "outputId": "1000c715-e1b2-46b1-8bb7-937cbae5223a"
      },
      "source": [
        "T = 10\n",
        "D = 1\n",
        "X = []\n",
        "Y = []\n",
        "for t in range(len(series) - T):\n",
        "  x = series[t:t+T]\n",
        "  X.append(x)\n",
        "  y = series[t+T]\n",
        "  Y.append(y)\n",
        "\n",
        "X = np.array(X).reshape(-1,T,1)\n",
        "Y = np.array(Y)\n",
        "N = len(X)\n",
        "print(X.shape, Y.shape, N)"
      ],
      "execution_count": 5,
      "outputs": [
        {
          "output_type": "stream",
          "name": "stdout",
          "text": [
            "(190, 10, 1) (190,) 190\n"
          ]
        }
      ]
    },
    {
      "cell_type": "code",
      "metadata": {
        "colab": {
          "base_uri": "https://localhost:8080/"
        },
        "id": "EQMQZLx6XXYp",
        "outputId": "1ec94d76-88cf-48ed-b286-d11f1217273a"
      },
      "source": [
        "i = Input(shape=(T,1))\n",
        "x = SimpleRNN(5, activation = None)(i)\n",
        "x = Dense(1)(x)\n",
        "model = Model(i, x)\n",
        "model.compile(\n",
        "             loss = 'mse',\n",
        "              optimizer = Adam(lr =0.1)\n",
        "              )\n",
        "r = model.fit(\n",
        "             X[:-N//2], Y[:-N//2],\n",
        "              validation_data = (X[-N//2:], Y[-N//2:]),\n",
        "              epochs = 80,\n",
        "              )"
      ],
      "execution_count": 6,
      "outputs": [
        {
          "output_type": "stream",
          "name": "stderr",
          "text": [
            "/usr/local/lib/python3.7/dist-packages/keras/optimizer_v2/optimizer_v2.py:356: UserWarning: The `lr` argument is deprecated, use `learning_rate` instead.\n",
            "  \"The `lr` argument is deprecated, use `learning_rate` instead.\")\n"
          ]
        },
        {
          "output_type": "stream",
          "name": "stdout",
          "text": [
            "Epoch 1/80\n",
            "3/3 [==============================] - 1s 127ms/step - loss: 1.0643 - val_loss: 0.0183\n",
            "Epoch 2/80\n",
            "3/3 [==============================] - 0s 17ms/step - loss: 0.0199 - val_loss: 0.0416\n",
            "Epoch 3/80\n",
            "3/3 [==============================] - 0s 15ms/step - loss: 0.0521 - val_loss: 0.0552\n",
            "Epoch 4/80\n",
            "3/3 [==============================] - 0s 16ms/step - loss: 0.0560 - val_loss: 0.0473\n",
            "Epoch 5/80\n",
            "3/3 [==============================] - 0s 14ms/step - loss: 0.0561 - val_loss: 0.0432\n",
            "Epoch 6/80\n",
            "3/3 [==============================] - 0s 14ms/step - loss: 0.0366 - val_loss: 0.0122\n",
            "Epoch 7/80\n",
            "3/3 [==============================] - 0s 15ms/step - loss: 0.0157 - val_loss: 0.0118\n",
            "Epoch 8/80\n",
            "3/3 [==============================] - 0s 16ms/step - loss: 0.0149 - val_loss: 0.0290\n",
            "Epoch 9/80\n",
            "3/3 [==============================] - 0s 14ms/step - loss: 0.0425 - val_loss: 0.1205\n",
            "Epoch 10/80\n",
            "3/3 [==============================] - 0s 15ms/step - loss: 0.1544 - val_loss: 0.0081\n",
            "Epoch 11/80\n",
            "3/3 [==============================] - 0s 16ms/step - loss: 0.0604 - val_loss: 0.0057\n",
            "Epoch 12/80\n",
            "3/3 [==============================] - 0s 15ms/step - loss: 0.0329 - val_loss: 0.0392\n",
            "Epoch 13/80\n",
            "3/3 [==============================] - 0s 17ms/step - loss: 0.0200 - val_loss: 0.0054\n",
            "Epoch 14/80\n",
            "3/3 [==============================] - 0s 19ms/step - loss: 0.0199 - val_loss: 0.0263\n",
            "Epoch 15/80\n",
            "3/3 [==============================] - 0s 16ms/step - loss: 0.0206 - val_loss: 0.0014\n",
            "Epoch 16/80\n",
            "3/3 [==============================] - 0s 23ms/step - loss: 0.0029 - val_loss: 0.0076\n",
            "Epoch 17/80\n",
            "3/3 [==============================] - 0s 24ms/step - loss: 0.0103 - val_loss: 0.0028\n",
            "Epoch 18/80\n",
            "3/3 [==============================] - 0s 20ms/step - loss: 0.0024 - val_loss: 0.0045\n",
            "Epoch 19/80\n",
            "3/3 [==============================] - 0s 19ms/step - loss: 0.0045 - val_loss: 0.0065\n",
            "Epoch 20/80\n",
            "3/3 [==============================] - 0s 19ms/step - loss: 0.0030 - val_loss: 4.3392e-04\n",
            "Epoch 21/80\n",
            "3/3 [==============================] - 0s 19ms/step - loss: 0.0013 - val_loss: 0.0027\n",
            "Epoch 22/80\n",
            "3/3 [==============================] - 0s 27ms/step - loss: 0.0025 - val_loss: 5.9038e-04\n",
            "Epoch 23/80\n",
            "3/3 [==============================] - 0s 20ms/step - loss: 4.1544e-04 - val_loss: 0.0014\n",
            "Epoch 24/80\n",
            "3/3 [==============================] - 0s 17ms/step - loss: 0.0012 - val_loss: 0.0014\n",
            "Epoch 25/80\n",
            "3/3 [==============================] - 0s 16ms/step - loss: 5.5965e-04 - val_loss: 2.0521e-04\n",
            "Epoch 26/80\n",
            "3/3 [==============================] - 0s 16ms/step - loss: 5.8534e-04 - val_loss: 4.0339e-04\n",
            "Epoch 27/80\n",
            "3/3 [==============================] - 0s 25ms/step - loss: 4.2840e-04 - val_loss: 1.3160e-04\n",
            "Epoch 28/80\n",
            "3/3 [==============================] - 0s 18ms/step - loss: 2.0777e-04 - val_loss: 5.0169e-04\n",
            "Epoch 29/80\n",
            "3/3 [==============================] - 0s 17ms/step - loss: 3.0163e-04 - val_loss: 1.1267e-04\n",
            "Epoch 30/80\n",
            "3/3 [==============================] - 0s 17ms/step - loss: 1.1865e-04 - val_loss: 1.1962e-04\n",
            "Epoch 31/80\n",
            "3/3 [==============================] - 0s 22ms/step - loss: 1.6009e-04 - val_loss: 3.2978e-05\n",
            "Epoch 32/80\n",
            "3/3 [==============================] - 0s 18ms/step - loss: 4.1723e-05 - val_loss: 1.3014e-04\n",
            "Epoch 33/80\n",
            "3/3 [==============================] - 0s 19ms/step - loss: 8.5781e-05 - val_loss: 6.8653e-05\n",
            "Epoch 34/80\n",
            "3/3 [==============================] - 0s 16ms/step - loss: 2.4762e-05 - val_loss: 2.0352e-05\n",
            "Epoch 35/80\n",
            "3/3 [==============================] - 0s 16ms/step - loss: 3.9313e-05 - val_loss: 2.2720e-05\n",
            "Epoch 36/80\n",
            "3/3 [==============================] - 0s 20ms/step - loss: 1.2993e-05 - val_loss: 1.1696e-05\n",
            "Epoch 37/80\n",
            "3/3 [==============================] - 0s 18ms/step - loss: 1.7846e-05 - val_loss: 1.6685e-05\n",
            "Epoch 38/80\n",
            "3/3 [==============================] - 0s 21ms/step - loss: 6.6908e-06 - val_loss: 2.4956e-06\n",
            "Epoch 39/80\n",
            "3/3 [==============================] - 0s 18ms/step - loss: 9.0923e-06 - val_loss: 8.1710e-06\n",
            "Epoch 40/80\n",
            "3/3 [==============================] - 0s 19ms/step - loss: 4.7116e-06 - val_loss: 1.3054e-06\n",
            "Epoch 41/80\n",
            "3/3 [==============================] - 0s 27ms/step - loss: 4.3335e-06 - val_loss: 3.8962e-06\n",
            "Epoch 42/80\n",
            "3/3 [==============================] - 0s 17ms/step - loss: 2.9424e-06 - val_loss: 2.1932e-06\n",
            "Epoch 43/80\n",
            "3/3 [==============================] - 0s 25ms/step - loss: 2.7087e-06 - val_loss: 4.8853e-06\n",
            "Epoch 44/80\n",
            "3/3 [==============================] - 0s 19ms/step - loss: 1.8530e-06 - val_loss: 4.6490e-07\n",
            "Epoch 45/80\n",
            "3/3 [==============================] - 0s 17ms/step - loss: 1.5041e-06 - val_loss: 1.4933e-06\n",
            "Epoch 46/80\n",
            "3/3 [==============================] - 0s 20ms/step - loss: 1.1465e-06 - val_loss: 6.9644e-07\n",
            "Epoch 47/80\n",
            "3/3 [==============================] - 0s 27ms/step - loss: 8.6753e-07 - val_loss: 1.4247e-06\n",
            "Epoch 48/80\n",
            "3/3 [==============================] - 0s 20ms/step - loss: 5.5070e-07 - val_loss: 1.9150e-07\n",
            "Epoch 49/80\n",
            "3/3 [==============================] - 0s 18ms/step - loss: 5.3347e-07 - val_loss: 2.6445e-07\n",
            "Epoch 50/80\n",
            "3/3 [==============================] - 0s 19ms/step - loss: 2.5032e-07 - val_loss: 2.6677e-07\n",
            "Epoch 51/80\n",
            "3/3 [==============================] - 0s 17ms/step - loss: 2.6986e-07 - val_loss: 2.4449e-07\n",
            "Epoch 52/80\n",
            "3/3 [==============================] - 0s 20ms/step - loss: 1.1486e-07 - val_loss: 1.0250e-07\n",
            "Epoch 53/80\n",
            "3/3 [==============================] - 0s 16ms/step - loss: 1.4571e-07 - val_loss: 4.3686e-08\n",
            "Epoch 54/80\n",
            "3/3 [==============================] - 0s 15ms/step - loss: 3.1118e-08 - val_loss: 8.6607e-08\n",
            "Epoch 55/80\n",
            "3/3 [==============================] - 0s 14ms/step - loss: 7.6147e-08 - val_loss: 1.6847e-08\n",
            "Epoch 56/80\n",
            "3/3 [==============================] - 0s 14ms/step - loss: 1.3040e-08 - val_loss: 5.9967e-08\n",
            "Epoch 57/80\n",
            "3/3 [==============================] - 0s 20ms/step - loss: 4.1211e-08 - val_loss: 8.8895e-09\n",
            "Epoch 58/80\n",
            "3/3 [==============================] - 0s 15ms/step - loss: 1.0074e-08 - val_loss: 2.0800e-08\n",
            "Epoch 59/80\n",
            "3/3 [==============================] - 0s 16ms/step - loss: 2.3598e-08 - val_loss: 5.2850e-09\n",
            "Epoch 60/80\n",
            "3/3 [==============================] - 0s 18ms/step - loss: 1.3660e-08 - val_loss: 2.6840e-08\n",
            "Epoch 61/80\n",
            "3/3 [==============================] - 0s 18ms/step - loss: 1.2267e-08 - val_loss: 3.5331e-09\n",
            "Epoch 62/80\n",
            "3/3 [==============================] - 0s 15ms/step - loss: 8.8627e-09 - val_loss: 4.7829e-09\n",
            "Epoch 63/80\n",
            "3/3 [==============================] - 0s 15ms/step - loss: 4.5737e-09 - val_loss: 7.2867e-09\n",
            "Epoch 64/80\n",
            "3/3 [==============================] - 0s 19ms/step - loss: 5.7383e-09 - val_loss: 4.4811e-09\n",
            "Epoch 65/80\n",
            "3/3 [==============================] - 0s 14ms/step - loss: 1.6675e-09 - val_loss: 2.1500e-09\n",
            "Epoch 66/80\n",
            "3/3 [==============================] - 0s 16ms/step - loss: 2.9041e-09 - val_loss: 4.1739e-10\n",
            "Epoch 67/80\n",
            "3/3 [==============================] - 0s 15ms/step - loss: 7.2559e-10 - val_loss: 2.5493e-09\n",
            "Epoch 68/80\n",
            "3/3 [==============================] - 0s 14ms/step - loss: 1.3172e-09 - val_loss: 8.0656e-11\n",
            "Epoch 69/80\n",
            "3/3 [==============================] - 0s 18ms/step - loss: 4.6558e-10 - val_loss: 7.3467e-10\n",
            "Epoch 70/80\n",
            "3/3 [==============================] - 0s 15ms/step - loss: 3.8437e-10 - val_loss: 1.1499e-10\n",
            "Epoch 71/80\n",
            "3/3 [==============================] - 0s 16ms/step - loss: 4.0717e-10 - val_loss: 1.8840e-10\n",
            "Epoch 72/80\n",
            "3/3 [==============================] - 0s 18ms/step - loss: 1.3313e-10 - val_loss: 3.6455e-10\n",
            "Epoch 73/80\n",
            "3/3 [==============================] - 0s 15ms/step - loss: 3.0442e-10 - val_loss: 1.0712e-10\n",
            "Epoch 74/80\n",
            "3/3 [==============================] - 0s 22ms/step - loss: 1.2801e-10 - val_loss: 1.7253e-10\n",
            "Epoch 75/80\n",
            "3/3 [==============================] - 0s 21ms/step - loss: 1.7171e-10 - val_loss: 9.2941e-11\n",
            "Epoch 76/80\n",
            "3/3 [==============================] - 0s 15ms/step - loss: 1.1976e-10 - val_loss: 1.8651e-10\n",
            "Epoch 77/80\n",
            "3/3 [==============================] - 0s 15ms/step - loss: 5.8408e-11 - val_loss: 4.2882e-11\n",
            "Epoch 78/80\n",
            "3/3 [==============================] - 0s 16ms/step - loss: 8.1070e-11 - val_loss: 2.1867e-11\n",
            "Epoch 79/80\n",
            "3/3 [==============================] - 0s 17ms/step - loss: 3.0215e-11 - val_loss: 7.5318e-11\n",
            "Epoch 80/80\n",
            "3/3 [==============================] - 0s 15ms/step - loss: 3.9854e-11 - val_loss: 4.5671e-12\n"
          ]
        }
      ]
    },
    {
      "cell_type": "code",
      "metadata": {
        "colab": {
          "base_uri": "https://localhost:8080/",
          "height": 282
        },
        "id": "IHoKUA7TZwD_",
        "outputId": "5cef0c2f-cdf0-4b78-cb9a-e70b6927ee92"
      },
      "source": [
        "plt.plot(r.history['loss'], label = 'loss')\n",
        "plt.plot(r.history['val_loss'], label = 'val_loss')"
      ],
      "execution_count": 7,
      "outputs": [
        {
          "output_type": "execute_result",
          "data": {
            "text/plain": [
              "[<matplotlib.lines.Line2D at 0x7fee0670a190>]"
            ]
          },
          "metadata": {},
          "execution_count": 7
        },
        {
          "output_type": "display_data",
          "data": {
            "image/png": "[encoded data removed]",
            "text/plain": [
              "<Figure size 432x288 with 1 Axes>"
            ]
          },
          "metadata": {
            "needs_background": "light"
          }
        }
      ]
    },
    {
      "cell_type": "code",
      "metadata": {
        "id": "aOXsx0dMaDrf"
      },
      "source": [
        "validation_target = Y[-N//2:]\n",
        "validation_predictions = []\n",
        "i = -N//2\n",
        "\n",
        "while len(validation_predictions) < len(validation_target):\n",
        "  p = model.predict(X[i].reshape(1,-1, 1))[0,0]\n",
        "  i += 1\n",
        "  validation_predictions.append(p)"
      ],
      "execution_count": 8,
      "outputs": []
    },
    {
      "cell_type": "code",
      "metadata": {
        "colab": {
          "base_uri": "https://localhost:8080/",
          "height": 282
        },
        "id": "9LhRGtIJ_8Px",
        "outputId": "d21fbbb4-81db-48ff-c80e-5a7027ee9bee"
      },
      "source": [
        "plt.plot(validation_predictions, label = 'pred')\n",
        "plt.plot(validation_target, label = 'target')\n",
        "plt.legend()"
      ],
      "execution_count": 9,
      "outputs": [
        {
          "output_type": "execute_result",
          "data": {
            "text/plain": [
              "<matplotlib.legend.Legend at 0x7fee0394a450>"
            ]
          },
          "metadata": {},
          "execution_count": 9
        },
        {
          "output_type": "display_data",
          "data": {
            "image/png": "[encoded data removed]",
            "text/plain": [
              "<Figure size 432x288 with 1 Axes>"
            ]
          },
          "metadata": {
            "needs_background": "light"
          }
        }
      ]
    },
    {
      "cell_type": "code",
      "metadata": {
        "id": "TLVRIQw9an-9"
      },
      "source": [
        "validation_target = Y[-N//2:]\n",
        "validation_predictions = []\n",
        "\n",
        "last_x = X[-N//2]\n",
        "\n",
        "while len(validation_predictions) < len(validation_target):\n",
        "  p = model.predict(last_x.reshape(1,-1, 1))[0,0]\n",
        "  validation_predictions.append(p)\n",
        "  last_x = np.roll(last_x, -1)\n",
        "  last_x[-1] = p"
      ],
      "execution_count": 10,
      "outputs": []
    },
    {
      "cell_type": "code",
      "metadata": {
        "colab": {
          "base_uri": "https://localhost:8080/",
          "height": 282
        },
        "id": "Pv2fCiNAa1u3",
        "outputId": "1c5edd33-a89c-4dbb-9849-77d844c3b953"
      },
      "source": [
        "plt.plot(validation_predictions, label = 'pred')\n",
        "plt.plot(validation_target, label = 'target')\n",
        "plt.legend()"
      ],
      "execution_count": 11,
      "outputs": [
        {
          "output_type": "execute_result",
          "data": {
            "text/plain": [
              "<matplotlib.legend.Legend at 0x7fee07ed8cd0>"
            ]
          },
          "metadata": {},
          "execution_count": 11
        },
        {
          "output_type": "display_data",
          "data": {
            "image/png": "[encoded data removed]",
            "text/plain": [
              "<Figure size 432x288 with 1 Axes>"
            ]
          },
          "metadata": {
            "needs_background": "light"
          }
        }
      ]
    },
    {
      "cell_type": "code",
      "metadata": {
        "id": "3d1sPZxEa56z"
      },
      "source": [
        ""
      ],
      "execution_count": 11,
      "outputs": []
    }
  ]
}